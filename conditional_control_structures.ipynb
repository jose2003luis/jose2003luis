{
  "nbformat": 4,
  "nbformat_minor": 0,
  "metadata": {
    "colab": {
      "provenance": [],
      "authorship_tag": "ABX9TyM4za7qDU+sEWWzqU1idJQe",
      "include_colab_link": true
    },
    "kernelspec": {
      "name": "python3",
      "display_name": "Python 3"
    },
    "language_info": {
      "name": "python"
    }
  },
  "cells": [
    {
      "cell_type": "markdown",
      "metadata": {
        "id": "view-in-github",
        "colab_type": "text"
      },
      "source": [
        "<a href=\"https://colab.research.google.com/github/jose2003luis/jose2003luis/blob/main/conditional_control_structures.ipynb\" target=\"_parent\"><img src=\"https://colab.research.google.com/assets/colab-badge.svg\" alt=\"Open In Colab\"/></a>"
      ]
    },
    {
      "cell_type": "code",
      "execution_count": null,
      "metadata": {
        "id": "UBxkX7EMq2qa"
      },
      "outputs": [],
      "source": [
        "# 1\n",
        "# simple conditional\n",
        "\n",
        "#  if conditional:\n",
        "#     sentences\n",
        "\n"
      ]
    },
    {
      "cell_type": "code",
      "source": [
        "# 2\n",
        "# double conditional or compuets\n",
        "\n",
        "# if conditional:\n",
        "#     sentences\n",
        "# else:\n",
        "#     sentences"
      ],
      "metadata": {
        "id": "DpLD4ghkrzUr"
      },
      "execution_count": null,
      "outputs": []
    },
    {
      "cell_type": "code",
      "source": [
        "# 3\n",
        "# nested conditionals\n",
        "\n",
        "# if conditional:\n",
        "#      sentences\n",
        "# else:\n",
        "#      if conditional:\n",
        "#         sentences\n",
        "#      else:\n",
        "#           if conditional:\n",
        "#               sentences\n",
        "#           else:\n",
        "#               if conditional:\n",
        "#                   sentences\n",
        "#               else:"
      ],
      "metadata": {
        "id": "pBDJSzFPsZD4"
      },
      "execution_count": null,
      "outputs": []
    },
    {
      "cell_type": "code",
      "source": [
        "# 4\n",
        "# conditionals if-elif-else\n",
        "\n",
        "# if condition:\n",
        "#   sentences\n",
        "# elif  condition:\n",
        "#   sentences\n",
        "# elif  condition:\n",
        "#   sentences\n",
        "# else:\n",
        "#   snetences"
      ],
      "metadata": {
        "id": "1YAHd3Y3tAj2"
      },
      "execution_count": null,
      "outputs": []
    },
    {
      "cell_type": "code",
      "source": [
        "# Exercise\n",
        "\n",
        "# 1. Determine if a number is odd or even\n",
        "\n",
        "a=int(input(\"Number for A: \"))\n",
        "\n",
        "if a % 2 != 0:# we validate\n",
        "  print(a,\" Is odd number\")\n",
        "else:\n",
        "  print(a,\"Is even number\")\n",
        "# SOL2:\n",
        "b=int(input(\"Number? \"))\n",
        "if b%2==0:\n",
        "    print(\"Is even number\")\n",
        "if b%2==1:\n",
        "    print(\"Is odd number\")\n",
        "\n",
        "# SOL3:\n",
        "num=int(input(\"Númber? \"))\n",
        "if num%2==0:\n",
        "    print(\"Is even number \")\n",
        "else:\n",
        "    print(\"Is odd number\")"
      ],
      "metadata": {
        "colab": {
          "base_uri": "https://localhost:8080/"
        },
        "id": "OAmZ1I7btnfQ",
        "outputId": "08fbc0f0-da39-4e75-d29c-0c7a564e4a09"
      },
      "execution_count": null,
      "outputs": [
        {
          "output_type": "stream",
          "name": "stdout",
          "text": [
            "Number for A: 3\n",
            "3  Is odd number\n",
            "Number? 2\n",
            "Is even number\n",
            "Númber? 1\n",
            "Is odd number\n"
          ]
        }
      ]
    },
    {
      "cell_type": "code",
      "source": [
        "# 2. Request the age of a person and indicate if he is an adult or a minor\n",
        "age = int(input(\"Your age : \"))\n",
        "\n",
        "if age >= 18 :\n",
        "  print(\"You are an adult ☺!!!!!!! \")\n",
        "else:\n",
        "  print(\"You are age minor\")"
      ],
      "metadata": {
        "colab": {
          "base_uri": "https://localhost:8080/"
        },
        "id": "69wipjTWvZfs",
        "outputId": "253c0d01-97fa-4699-8d67-745d186773dc"
      },
      "execution_count": null,
      "outputs": [
        {
          "output_type": "stream",
          "name": "stdout",
          "text": [
            "Your age : 8\n",
            "You are age minor\n"
          ]
        }
      ]
    },
    {
      "cell_type": "code",
      "source": [
        "# 3. Enter a number of three digits .Indicate if is a multiple of 7.\n",
        "a=int(input(\"Number of three digits? :\"))\n",
        "if a >=100 and a <= 999:# we validate three digits\n",
        "  if a %7==0:\n",
        "    print(\"Is multiple of 7 ☺☺☺!!! \")\n",
        "  else:\n",
        "    print(\"Is not multiple of 7\")\n",
        "else:\n",
        "  print(\"The numer should of three digits \")"
      ],
      "metadata": {
        "colab": {
          "base_uri": "https://localhost:8080/"
        },
        "id": "yHUowFzNyspk",
        "outputId": "556066c5-2683-41d9-8752-2beb66a30514"
      },
      "execution_count": null,
      "outputs": [
        {
          "output_type": "stream",
          "name": "stdout",
          "text": [
            "Number of three digits? :777\n",
            "Is multiple of 7 ☺☺☺!!! \n"
          ]
        }
      ]
    },
    {
      "cell_type": "code",
      "source": [
        "# 4. Indicate the rating according to\n",
        "# the value of the note obtained:\n",
        "# 0-10 Poor\n",
        "# 11-12 Bad\n",
        "# 13-14 Regular\n",
        "# 15-17 good\n",
        "# 18-19 Very good\n",
        "# 20 excellent\n",
        "\n",
        "a= int(input(\"Enter your rating : \"))\n",
        "if a>=0 and a<=10:\n",
        "  print(\"Is deficient\")\n",
        "else:\n",
        "    if a>=11 and a<=12:\n",
        "      print(\"Is bad\")\n",
        "    else:\n",
        "        if a>=13 and a<=14:\n",
        "          print(\"Is regular\")\n",
        "        else:\n",
        "            if a>=15 and a<=17:\n",
        "              print(\"Is goob\")\n",
        "            else:\n",
        "                if a>=18 and a<=19:\n",
        "                  print(\"Is very goob\")\n",
        "                else:\n",
        "                    if a==20:\n",
        "                      print(\"Is excellent\")\n",
        "                    else:\n",
        "                      print(\"Your rating is invalid\")"
      ],
      "metadata": {
        "id": "ysM-ofwa3J_s",
        "colab": {
          "base_uri": "https://localhost:8080/"
        },
        "outputId": "471de462-ff23-402d-f220-6eec71caaef7"
      },
      "execution_count": 3,
      "outputs": [
        {
          "output_type": "stream",
          "name": "stdout",
          "text": [
            "Enter your rating : 20\n",
            "Is excellent\n"
          ]
        }
      ]
    },
    {
      "cell_type": "code",
      "source": [
        "# SOL2:\n",
        "note=int(input(\"Note? \"))\n",
        "if note>=0 and note<=20:\n",
        "    if note>=0 and note<=10:\n",
        "        print(\"Deficient\")\n",
        "    elif note <= 12:\n",
        "        print(\"Bad\")\n",
        "    elif note <= 14:\n",
        "        print(\"Regular\")\n",
        "    elif note <= 17:\n",
        "        print(\"Good\")\n",
        "    elif note <=19:\n",
        "        print(\"Very good\")\n",
        "    else:\n",
        "        print(\"Excellent\")\n",
        "else:\n",
        "    print(\"Not a valid note\")"
      ],
      "metadata": {
        "colab": {
          "base_uri": "https://localhost:8080/"
        },
        "id": "5ZVBgSn6Xu2b",
        "outputId": "4dd30df5-045f-41a8-e3ea-d9570d353274"
      },
      "execution_count": 4,
      "outputs": [
        {
          "output_type": "stream",
          "name": "stdout",
          "text": [
            "Note? 20\n",
            "Excellent\n"
          ]
        }
      ]
    }
  ]
}