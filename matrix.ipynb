{
  "nbformat": 4,
  "nbformat_minor": 0,
  "metadata": {
    "colab": {
      "provenance": [],
      "authorship_tag": "ABX9TyPU9DZfw/FC9zeGGD2JA0Df",
      "include_colab_link": true
    },
    "kernelspec": {
      "name": "python3",
      "display_name": "Python 3"
    },
    "language_info": {
      "name": "python"
    }
  },
  "cells": [
    {
      "cell_type": "markdown",
      "metadata": {
        "id": "view-in-github",
        "colab_type": "text"
      },
      "source": [
        "<a href=\"https://colab.research.google.com/github/jose2003luis/jose2003luis/blob/main/matrix.ipynb\" target=\"_parent\"><img src=\"https://colab.research.google.com/assets/colab-badge.svg\" alt=\"Open In Colab\"/></a>"
      ]
    },
    {
      "cell_type": "code",
      "execution_count": null,
      "metadata": {
        "id": "Zjz9_4CvdcPZ",
        "colab": {
          "base_uri": "https://localhost:8080/"
        },
        "outputId": "63a85cfe-a63e-4e5a-b009-9a40d5b82e4f"
      },
      "outputs": [
        {
          "output_type": "stream",
          "name": "stdout",
          "text": [
            "Enter the rows : 3\n",
            "Enter the columns : 3\n",
            "[[0, 0, 0], [0, 0, 0], [0, 0, 0]]\n",
            "Value : 1\n",
            "Value : 2\n",
            "Value : 3\n",
            "Value : 4\n",
            "Value : 5\n",
            "Value : 6\n",
            "Value : 7\n",
            "Value : 8\n",
            "Value : 9\n",
            "[[1, 2, 3], [4, 5, 6], [7, 8, 9]]\n",
            "The matrix is \n",
            "1 \t2 \t3 \t\n",
            "4 \t5 \t6 \t\n",
            "7 \t8 \t9 \t\n"
          ]
        }
      ],
      "source": [
        "def enter(M,f,c):\n",
        "  for i in range(f):\n",
        "    for j in range(c):\n",
        "      M[i][j]=int(input(\"Value : \"))\n",
        "\n",
        "def show(M,f,c):\n",
        "  for i in range (f):\n",
        "    for j in range (c):\n",
        "      print(M[i][j],end=\" \\t\")\n",
        "    print()\n",
        "\n",
        "M=[]\n",
        "f=int(input(\"Enter the rows : \"))\n",
        "c=int(input(\"Enter the columns : \"))\n",
        "M=[0]*f\n",
        "for i in range(f):\n",
        "  M[i]=[0]*c\n",
        "print(M)\n",
        "enter(M,f,c)\n",
        "print(M)\n",
        "print(\"The matrix is \")\n",
        "show(M,f,c)"
      ]
    },
    {
      "cell_type": "code",
      "source": [],
      "metadata": {
        "id": "J6k6X4edTmVd"
      },
      "execution_count": null,
      "outputs": []
    },
    {
      "cell_type": "code",
      "source": [
        "def chelsea(M,f,c):\n",
        "  for i in range(f):\n",
        "    for j in range(c):\n",
        "      M[i][j]=int(input(\"The value ? : \"))\n",
        "\n",
        "def chester(M,f,c):\n",
        "  for i in range(f):\n",
        "    for j in range(c):\n",
        "      print(M[i][j],end=\" \\t\")\n",
        "    print()# the break line is very important\n",
        "\n",
        "M=[]\n",
        "f=int(input(\"Enter the crows : \"))\n",
        "c=int(input(\"Enter the columns : \"))\n",
        "M=[0]*f\n",
        "for i in range(f):\n",
        "  M[i]=[0]*c\n",
        "print(M)\n",
        "chelsea(M,f,c)\n",
        "print(M)\n",
        "print(\"The matrix is \")\n",
        "chester(M,f,c)\n"
      ],
      "metadata": {
        "colab": {
          "base_uri": "https://localhost:8080/"
        },
        "id": "YStQzfa3yhJ4",
        "outputId": "1eaa56a5-a8b7-4bbc-e184-693c61166537"
      },
      "execution_count": null,
      "outputs": [
        {
          "output_type": "stream",
          "name": "stdout",
          "text": [
            "Enter the crows : 3\n",
            "Enter the columns : 3\n",
            "[[0, 0, 0], [0, 0, 0], [0, 0, 0]]\n",
            "The value ? : 1\n",
            "The value ? : 2\n",
            "The value ? : 3\n",
            "The value ? : 4\n",
            "The value ? : 5\n",
            "The value ? : 6\n",
            "The value ? : 7\n",
            "The value ? : 8\n",
            "The value ? : 9\n",
            "[[1, 2, 3], [4, 5, 6], [7, 8, 9]]\n",
            "The matix is \n",
            "1 \t2 \t3 \t\n",
            "4 \t5 \t6 \t\n",
            "7 \t8 \t9 \t\n"
          ]
        }
      ]
    },
    {
      "cell_type": "code",
      "source": [
        "def enter (M,f,c):\n",
        "  for i in range(f):\n",
        "    for j in range(c):\n",
        "      M[i][j]=int=input(\"Value? :\")\n",
        "\n",
        "def show (M,f,c):\n",
        "  for i in range(f):\n",
        "    for j in range(c):\n",
        "      print(M[i][j], end=\"\\t\")\n",
        "    print()\n",
        "\n",
        "def intercrowns(M,c,x,y):\n",
        "    for i in range(c):\n",
        "        aux=M[x][i]\n",
        "        M[x][i]=M[y][i]\n",
        "        M[y][i]=aux\n",
        "\n",
        "def intercolumns(M,f,x,y):\n",
        "    for i in range(f):\n",
        "        aux=M[i][x]\n",
        "        M[i][x]=M[i][y]\n",
        "        M[i][y]=aux\n",
        "M=[]\n",
        "f=int(input(\"Rowns ? : \"))\n",
        "c=int(input(\"Columns ? : \"))\n",
        "M=[0]*f\n",
        "for i in range(f):\n",
        "  M[i]=[0]*c\n",
        "print(M)\n",
        "enter(M,f,c)\n",
        "print(M)\n",
        "print(\"The matrix is : \")\n",
        "show(M,f,c)\n",
        "# transposition of crowns\n",
        "x=int(input(\"Rowns ? : \"))\n",
        "y=int(input(\"Rowns ? : \"))\n",
        "intercrowns(M,c,x-1,y-1)\n",
        "print(\"The new matrix is\")\n",
        "show(M,f,c)\n",
        "# transposition of columns\n",
        "x=int(input(\"columns ? : \"))\n",
        "y=int(input(\"columns ? : \"))\n",
        "intercolumns(M,c,x-1,y-1)\n",
        "print(\"The new matrix is\")\n",
        "show(M,f,c)"
      ],
      "metadata": {
        "id": "aXpPoI6wTpE0",
        "colab": {
          "base_uri": "https://localhost:8080/"
        },
        "outputId": "4400b4cb-338c-49a2-904d-9d96045dd701"
      },
      "execution_count": 14,
      "outputs": [
        {
          "output_type": "stream",
          "name": "stdout",
          "text": [
            "Rowns ? : 3\n",
            "Columns ? : 3\n",
            "[[0, 0, 0], [0, 0, 0], [0, 0, 0]]\n",
            "Value? :1\n",
            "Value? :2\n",
            "Value? :3\n",
            "Value? :4\n",
            "Value? :5\n",
            "Value? :6\n",
            "Value? :7\n",
            "Value? :8\n",
            "Value? :9\n",
            "[['1', '2', '3'], ['4', '5', '6'], ['7', '8', '9']]\n",
            "The matrix is : \n",
            "1\t2\t3\t\n",
            "4\t5\t6\t\n",
            "7\t8\t9\t\n",
            "Rowns ? : 1\n",
            "Rowns ? : 3\n",
            "The new matrix is\n",
            "7\t8\t9\t\n",
            "4\t5\t6\t\n",
            "1\t2\t3\t\n",
            "columns ? : 1\n",
            "columns ? : 3\n",
            "The new matrix is\n",
            "9\t8\t7\t\n",
            "6\t5\t4\t\n",
            "3\t2\t1\t\n"
          ]
        }
      ]
    }
  ]
}